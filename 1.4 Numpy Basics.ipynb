{
 "cells": [
  {
   "cell_type": "markdown",
   "id": "completed-advantage",
   "metadata": {},
   "source": [
    "# What is numpy \n",
    "Numpy is a Python module for doing calculations on tables of data. Pandas was actually built using Numpy as it’s foundation."
   ]
  },
  {
   "cell_type": "markdown",
   "id": "closed-louisiana",
   "metadata": {},
   "source": [
    "## Converting from a Pandas Series to a Numpy Array\n",
    "The values attribute of a Pandas Series give the data as a numpy array."
   ]
  },
  {
   "cell_type": "code",
   "execution_count": 1,
   "id": "lasting-investigation",
   "metadata": {},
   "outputs": [
    {
     "data": {
      "text/html": [
       "<div>\n",
       "<style scoped>\n",
       "    .dataframe tbody tr th:only-of-type {\n",
       "        vertical-align: middle;\n",
       "    }\n",
       "\n",
       "    .dataframe tbody tr th {\n",
       "        vertical-align: top;\n",
       "    }\n",
       "\n",
       "    .dataframe thead th {\n",
       "        text-align: right;\n",
       "    }\n",
       "</style>\n",
       "<table border=\"1\" class=\"dataframe\">\n",
       "  <thead>\n",
       "    <tr style=\"text-align: right;\">\n",
       "      <th></th>\n",
       "      <th>Survived</th>\n",
       "      <th>Pclass</th>\n",
       "      <th>Sex</th>\n",
       "      <th>Age</th>\n",
       "      <th>Siblings/Spouses</th>\n",
       "      <th>Parents/Children</th>\n",
       "      <th>Fare</th>\n",
       "    </tr>\n",
       "  </thead>\n",
       "  <tbody>\n",
       "    <tr>\n",
       "      <th>0</th>\n",
       "      <td>0</td>\n",
       "      <td>3</td>\n",
       "      <td>male</td>\n",
       "      <td>22.0</td>\n",
       "      <td>1</td>\n",
       "      <td>0</td>\n",
       "      <td>7.2500</td>\n",
       "    </tr>\n",
       "    <tr>\n",
       "      <th>1</th>\n",
       "      <td>1</td>\n",
       "      <td>1</td>\n",
       "      <td>female</td>\n",
       "      <td>38.0</td>\n",
       "      <td>1</td>\n",
       "      <td>0</td>\n",
       "      <td>71.2833</td>\n",
       "    </tr>\n",
       "    <tr>\n",
       "      <th>2</th>\n",
       "      <td>1</td>\n",
       "      <td>3</td>\n",
       "      <td>female</td>\n",
       "      <td>26.0</td>\n",
       "      <td>0</td>\n",
       "      <td>0</td>\n",
       "      <td>7.9250</td>\n",
       "    </tr>\n",
       "    <tr>\n",
       "      <th>3</th>\n",
       "      <td>1</td>\n",
       "      <td>1</td>\n",
       "      <td>female</td>\n",
       "      <td>35.0</td>\n",
       "      <td>1</td>\n",
       "      <td>0</td>\n",
       "      <td>53.1000</td>\n",
       "    </tr>\n",
       "    <tr>\n",
       "      <th>4</th>\n",
       "      <td>0</td>\n",
       "      <td>3</td>\n",
       "      <td>male</td>\n",
       "      <td>35.0</td>\n",
       "      <td>0</td>\n",
       "      <td>0</td>\n",
       "      <td>8.0500</td>\n",
       "    </tr>\n",
       "  </tbody>\n",
       "</table>\n",
       "</div>"
      ],
      "text/plain": [
       "   Survived  Pclass     Sex   Age  Siblings/Spouses  Parents/Children     Fare\n",
       "0         0       3    male  22.0                 1                 0   7.2500\n",
       "1         1       1  female  38.0                 1                 0  71.2833\n",
       "2         1       3  female  26.0                 0                 0   7.9250\n",
       "3         1       1  female  35.0                 1                 0  53.1000\n",
       "4         0       3    male  35.0                 0                 0   8.0500"
      ]
     },
     "execution_count": 1,
     "metadata": {},
     "output_type": "execute_result"
    }
   ],
   "source": [
    "import pandas as pd\n",
    "df = pd.read_csv(\"titanic.csv\")\n",
    "df.head()"
   ]
  },
  {
   "cell_type": "code",
   "execution_count": 5,
   "id": "continent-flavor",
   "metadata": {},
   "outputs": [
    {
     "data": {
      "text/plain": [
       "array([ 7.25  , 71.2833,  7.925 , 53.1   ,  8.05  ])"
      ]
     },
     "execution_count": 5,
     "metadata": {},
     "output_type": "execute_result"
    }
   ],
   "source": [
    "# get np array by values() method on dataframe\n",
    "np_array = df['Fare'].head().values\n",
    "np_array"
   ]
  },
  {
   "cell_type": "code",
   "execution_count": 6,
   "id": "planned-theater",
   "metadata": {},
   "outputs": [
    {
     "data": {
      "text/plain": [
       "numpy.ndarray"
      ]
     },
     "execution_count": 6,
     "metadata": {},
     "output_type": "execute_result"
    }
   ],
   "source": [
    "type(np_array)"
   ]
  },
  {
   "cell_type": "markdown",
   "id": "instrumental-athletics",
   "metadata": {},
   "source": [
    "## Converting from a Pandas DataFrame to a Numpy Array\n",
    "The values attribute of a Pandas DataFrame give the data as a 2d numpy array."
   ]
  },
  {
   "cell_type": "code",
   "execution_count": 7,
   "id": "floating-patio",
   "metadata": {},
   "outputs": [
    {
     "data": {
      "text/html": [
       "<div>\n",
       "<style scoped>\n",
       "    .dataframe tbody tr th:only-of-type {\n",
       "        vertical-align: middle;\n",
       "    }\n",
       "\n",
       "    .dataframe tbody tr th {\n",
       "        vertical-align: top;\n",
       "    }\n",
       "\n",
       "    .dataframe thead th {\n",
       "        text-align: right;\n",
       "    }\n",
       "</style>\n",
       "<table border=\"1\" class=\"dataframe\">\n",
       "  <thead>\n",
       "    <tr style=\"text-align: right;\">\n",
       "      <th></th>\n",
       "      <th>Pclass</th>\n",
       "      <th>Fare</th>\n",
       "      <th>Age</th>\n",
       "    </tr>\n",
       "  </thead>\n",
       "  <tbody>\n",
       "    <tr>\n",
       "      <th>0</th>\n",
       "      <td>3</td>\n",
       "      <td>7.2500</td>\n",
       "      <td>22.0</td>\n",
       "    </tr>\n",
       "    <tr>\n",
       "      <th>1</th>\n",
       "      <td>1</td>\n",
       "      <td>71.2833</td>\n",
       "      <td>38.0</td>\n",
       "    </tr>\n",
       "    <tr>\n",
       "      <th>2</th>\n",
       "      <td>3</td>\n",
       "      <td>7.9250</td>\n",
       "      <td>26.0</td>\n",
       "    </tr>\n",
       "    <tr>\n",
       "      <th>3</th>\n",
       "      <td>1</td>\n",
       "      <td>53.1000</td>\n",
       "      <td>35.0</td>\n",
       "    </tr>\n",
       "    <tr>\n",
       "      <th>4</th>\n",
       "      <td>3</td>\n",
       "      <td>8.0500</td>\n",
       "      <td>35.0</td>\n",
       "    </tr>\n",
       "  </tbody>\n",
       "</table>\n",
       "</div>"
      ],
      "text/plain": [
       "   Pclass     Fare   Age\n",
       "0       3   7.2500  22.0\n",
       "1       1  71.2833  38.0\n",
       "2       3   7.9250  26.0\n",
       "3       1  53.1000  35.0\n",
       "4       3   8.0500  35.0"
      ]
     },
     "execution_count": 7,
     "metadata": {},
     "output_type": "execute_result"
    }
   ],
   "source": [
    "df[[\"Pclass\",\"Fare\",\"Age\"]].head()"
   ]
  },
  {
   "cell_type": "code",
   "execution_count": 9,
   "id": "vocational-cabin",
   "metadata": {},
   "outputs": [
    {
     "data": {
      "text/plain": [
       "array([[ 3.    ,  7.25  , 22.    ],\n",
       "       [ 1.    , 71.2833, 38.    ],\n",
       "       [ 3.    ,  7.925 , 26.    ],\n",
       "       ...,\n",
       "       [ 3.    , 23.45  ,  7.    ],\n",
       "       [ 1.    , 30.    , 26.    ],\n",
       "       [ 3.    ,  7.75  , 32.    ]])"
      ]
     },
     "execution_count": 9,
     "metadata": {},
     "output_type": "execute_result"
    }
   ],
   "source": [
    "nd_array = df[[\"Pclass\",\"Fare\",\"Age\"]].values\n",
    "nd_array"
   ]
  },
  {
   "cell_type": "code",
   "execution_count": 11,
   "id": "centered-ocean",
   "metadata": {},
   "outputs": [
    {
     "data": {
      "text/plain": [
       "numpy.ndarray"
      ]
     },
     "execution_count": 11,
     "metadata": {},
     "output_type": "execute_result"
    }
   ],
   "source": [
    "type(nd_array)"
   ]
  },
  {
   "cell_type": "code",
   "execution_count": 12,
   "id": "floppy-cuisine",
   "metadata": {},
   "outputs": [
    {
     "data": {
      "text/plain": [
       "(887, 7)"
      ]
     },
     "execution_count": 12,
     "metadata": {},
     "output_type": "execute_result"
    }
   ],
   "source": [
    "df.shape"
   ]
  },
  {
   "cell_type": "code",
   "execution_count": 13,
   "id": "capable-elimination",
   "metadata": {},
   "outputs": [
    {
     "data": {
      "text/plain": [
       "(887, 3)"
      ]
     },
     "execution_count": 13,
     "metadata": {},
     "output_type": "execute_result"
    }
   ],
   "source": [
    "nd_array.shape"
   ]
  },
  {
   "cell_type": "markdown",
   "id": "heard-louis",
   "metadata": {},
   "source": [
    "## Numpy Shape Attribute\n",
    "Use the shape attribute to find the number of rows and number columns for a Numpy array. You can also use the shape attribute on a pandas DataFrame (df.shape)."
   ]
  },
  {
   "cell_type": "code",
   "execution_count": 15,
   "id": "surprised-granny",
   "metadata": {},
   "outputs": [
    {
     "data": {
      "text/plain": [
       "array([[ 3.    ,  7.25  , 22.    ],\n",
       "       [ 1.    , 71.2833, 38.    ],\n",
       "       [ 3.    ,  7.925 , 26.    ],\n",
       "       ...,\n",
       "       [ 3.    , 23.45  ,  7.    ],\n",
       "       [ 1.    , 30.    , 26.    ],\n",
       "       [ 3.    ,  7.75  , 32.    ]])"
      ]
     },
     "execution_count": 15,
     "metadata": {},
     "output_type": "execute_result"
    }
   ],
   "source": [
    "arr = df[['Pclass','Fare','Age']].values\n",
    "arr"
   ]
  },
  {
   "cell_type": "code",
   "execution_count": 16,
   "id": "cathedral-southwest",
   "metadata": {},
   "outputs": [
    {
     "data": {
      "text/plain": [
       "(887, 3)"
      ]
     },
     "execution_count": 16,
     "metadata": {},
     "output_type": "execute_result"
    }
   ],
   "source": [
    "arr.shape"
   ]
  },
  {
   "cell_type": "markdown",
   "id": "amazing-disclaimer",
   "metadata": {},
   "source": [
    "## Select from a Numpy Array\n"
   ]
  },
  {
   "cell_type": "code",
   "execution_count": 18,
   "id": "humanitarian-fitting",
   "metadata": {},
   "outputs": [
    {
     "data": {
      "text/plain": [
       "array([[ 3.    ,  7.25  , 22.    ],\n",
       "       [ 1.    , 71.2833, 38.    ],\n",
       "       [ 3.    ,  7.925 , 26.    ],\n",
       "       ...,\n",
       "       [ 3.    , 23.45  ,  7.    ],\n",
       "       [ 1.    , 30.    , 26.    ],\n",
       "       [ 3.    ,  7.75  , 32.    ]])"
      ]
     },
     "execution_count": 18,
     "metadata": {},
     "output_type": "execute_result"
    }
   ],
   "source": [
    "arr = df[['Pclass','Fare','Age']].values\n",
    "arr"
   ]
  },
  {
   "cell_type": "code",
   "execution_count": 19,
   "id": "rural-breast",
   "metadata": {},
   "outputs": [
    {
     "data": {
      "text/plain": [
       "7.25"
      ]
     },
     "execution_count": 19,
     "metadata": {},
     "output_type": "execute_result"
    }
   ],
   "source": [
    "# select single element\n",
    "arr[0,1]"
   ]
  },
  {
   "cell_type": "code",
   "execution_count": 21,
   "id": "remarkable-watershed",
   "metadata": {},
   "outputs": [
    {
     "data": {
      "text/plain": [
       "array([ 3.  ,  7.25, 22.  ])"
      ]
     },
     "execution_count": 21,
     "metadata": {},
     "output_type": "execute_result"
    }
   ],
   "source": [
    "# select single row\n",
    "arr[0]"
   ]
  },
  {
   "cell_type": "code",
   "execution_count": 22,
   "id": "american-cheese",
   "metadata": {},
   "outputs": [
    {
     "data": {
      "text/plain": [
       "array([22.  , 38.  , 26.  , 35.  , 35.  , 27.  , 54.  ,  2.  , 27.  ,\n",
       "       14.  ,  4.  , 58.  , 20.  , 39.  , 14.  , 55.  ,  2.  , 23.  ,\n",
       "       31.  , 22.  , 35.  , 34.  , 15.  , 28.  ,  8.  , 38.  , 26.  ,\n",
       "       19.  , 24.  , 23.  , 40.  , 48.  , 18.  , 66.  , 28.  , 42.  ,\n",
       "       18.  , 21.  , 18.  , 14.  , 40.  , 27.  ,  3.  , 19.  , 30.  ,\n",
       "       20.  , 27.  , 16.  , 18.  ,  7.  , 21.  , 49.  , 29.  , 65.  ,\n",
       "       46.  , 21.  , 28.5 ,  5.  , 11.  , 22.  , 38.  , 45.  ,  4.  ,\n",
       "       64.  ,  7.  , 29.  , 19.  , 17.  , 26.  , 32.  , 16.  , 21.  ,\n",
       "       26.  , 32.  , 25.  , 23.  , 28.  ,  0.83, 30.  , 22.  , 29.  ,\n",
       "       31.  , 28.  , 17.  , 33.  , 16.  , 20.  , 23.  , 24.  , 29.  ,\n",
       "       20.  , 46.  , 26.  , 59.  , 22.  , 71.  , 23.  , 34.  , 34.  ,\n",
       "       28.  , 29.  , 21.  , 33.  , 37.  , 28.  , 21.  , 29.  , 38.  ,\n",
       "       28.  , 47.  , 14.5 , 22.  , 20.  , 17.  , 21.  , 70.5 , 29.  ,\n",
       "       24.  ,  2.  , 21.  , 19.  , 32.5 , 32.5 , 54.  , 12.  , 19.  ,\n",
       "       24.  ,  2.  , 45.  , 33.  , 20.  , 47.  , 29.  , 25.  , 23.  ,\n",
       "       19.  , 37.  , 16.  , 24.  , 40.  , 22.  , 24.  , 19.  , 18.  ,\n",
       "       19.  , 27.  ,  9.  , 36.5 , 42.  , 51.  , 22.  , 55.5 , 40.5 ,\n",
       "       27.  , 51.  , 16.  , 30.  , 37.  ,  5.  , 44.  , 40.  , 26.  ,\n",
       "       17.  ,  1.  ,  9.  , 48.  , 45.  , 60.  , 28.  , 61.  ,  4.  ,\n",
       "        1.  , 21.  , 56.  , 18.  ,  5.  , 50.  , 30.  , 36.  ,  8.  ,\n",
       "       39.  ,  9.  ,  1.  ,  4.  , 39.  , 26.  , 45.  , 40.  , 36.  ,\n",
       "       32.  , 19.  , 19.  ,  3.  , 44.  , 58.  , 28.  , 42.  , 21.  ,\n",
       "       24.  , 28.  , 17.  , 34.  , 45.5 , 18.  ,  2.  , 32.  , 26.  ,\n",
       "       16.  , 40.  , 24.  , 35.  , 22.  , 30.  , 22.  , 31.  , 27.  ,\n",
       "       42.  , 32.  , 30.  , 16.  , 27.  , 51.  , 22.  , 38.  , 22.  ,\n",
       "       19.  , 20.5 , 18.  , 12.  , 35.  , 29.  , 59.  ,  5.  , 24.  ,\n",
       "       21.  , 44.  ,  8.  , 19.  , 33.  , 19.  , 18.  , 29.  , 22.  ,\n",
       "       30.  , 44.  , 25.  , 24.  , 37.  , 54.  , 18.  , 29.  , 62.  ,\n",
       "       30.  , 41.  , 29.  , 38.  , 30.  , 35.  , 50.  ,  3.  , 52.  ,\n",
       "       40.  , 21.  , 36.  , 16.  , 25.  , 58.  , 35.  , 28.  , 25.  ,\n",
       "       41.  , 37.  , 33.  , 63.  , 45.  , 21.  ,  7.  , 35.  , 65.  ,\n",
       "       28.  , 16.  , 19.  , 57.  , 33.  , 30.  , 22.  , 42.  , 22.  ,\n",
       "       26.  , 19.  , 36.  , 24.  , 24.  , 30.  , 23.5 ,  2.  , 47.  ,\n",
       "       50.  , 20.  , 24.  , 19.  , 46.  , 28.  ,  0.92, 42.  , 17.  ,\n",
       "       30.  , 30.  , 24.  , 18.  , 26.  , 28.  , 43.  , 26.  , 24.  ,\n",
       "       54.  , 31.  , 40.  , 22.  , 27.  , 30.  , 22.  , 20.  , 36.  ,\n",
       "       61.  , 36.  , 31.  , 16.  , 28.  , 45.5 , 38.  , 16.  , 42.  ,\n",
       "       30.  , 29.  , 41.  , 45.  , 45.  ,  2.  , 24.  , 28.  , 25.  ,\n",
       "       36.  , 24.  , 40.  , 34.  ,  3.  , 42.  , 23.  , 43.  , 15.  ,\n",
       "       25.  , 23.  , 28.  , 22.  , 38.  , 22.  , 23.  , 40.  , 29.  ,\n",
       "       45.  , 35.  , 27.  , 30.  , 60.  , 35.  , 22.  , 24.  , 25.  ,\n",
       "       18.  , 19.  , 22.  ,  3.  , 25.  , 22.  , 27.  , 20.  , 19.  ,\n",
       "       42.  ,  1.  , 32.  , 35.  , 27.  , 18.  ,  1.  , 36.  , 19.  ,\n",
       "       17.  , 36.  , 21.  , 28.  , 23.  , 24.  , 22.  , 31.  , 46.  ,\n",
       "       23.  , 28.  , 39.  , 26.  , 21.  , 28.  , 20.  , 34.  , 51.  ,\n",
       "        3.  , 21.  ,  3.  , 42.  , 27.  , 33.  , 22.  , 44.  , 32.  ,\n",
       "       34.  , 18.  , 30.  , 10.  , 21.  , 29.  , 28.  , 18.  , 54.  ,\n",
       "       28.  , 19.  , 28.  , 32.  , 28.  , 33.  , 42.  , 17.  , 50.  ,\n",
       "       14.  , 21.  , 24.  , 64.  , 31.  , 45.  , 20.  , 25.  , 28.  ,\n",
       "       29.  ,  4.  , 13.  , 34.  ,  5.  , 52.  , 36.  , 28.  , 30.  ,\n",
       "       49.  , 24.  , 29.  , 65.  , 41.  , 50.  , 17.  , 48.  , 34.  ,\n",
       "       47.  , 48.  , 34.  , 38.  , 21.  , 56.  , 22.  ,  0.75, 39.  ,\n",
       "       38.  , 33.  , 23.  , 22.  , 40.  , 34.  , 29.  , 22.  ,  2.  ,\n",
       "        9.  , 37.  , 50.  , 63.  , 25.  ,  8.  , 35.  , 58.  , 30.  ,\n",
       "        9.  , 19.  , 21.  , 55.  , 71.  , 21.  , 26.  , 54.  , 55.  ,\n",
       "       25.  , 24.  , 17.  , 21.  , 21.  , 37.  , 16.  , 18.  , 33.  ,\n",
       "       37.  , 28.  , 26.  , 29.  , 66.  , 36.  , 54.  , 24.  , 47.  ,\n",
       "       34.  , 30.  , 36.  , 32.  , 30.  , 22.  , 35.  , 44.  , 18.  ,\n",
       "       40.5 , 50.  , 49.  , 39.  , 23.  ,  2.  , 17.  , 17.  , 24.  ,\n",
       "       30.  ,  7.  , 45.  , 30.  , 69.  , 22.  , 36.  ,  9.  , 11.  ,\n",
       "       32.  , 50.  , 64.  , 19.  , 27.  , 33.  ,  8.  , 17.  , 27.  ,\n",
       "       21.  , 22.  , 22.  , 62.  , 48.  , 45.  , 39.  , 36.  , 30.  ,\n",
       "       40.  , 28.  , 40.  , 62.  , 24.  , 19.  , 29.  , 28.  , 32.  ,\n",
       "       62.  , 53.  , 36.  , 22.  , 16.  , 19.  , 34.  , 39.  , 18.  ,\n",
       "       32.  , 25.  , 39.  , 54.  , 36.  , 16.  , 18.  , 47.  , 60.  ,\n",
       "       22.  , 22.  , 35.  , 52.  , 47.  , 40.  , 37.  , 36.  , 31.  ,\n",
       "       49.  , 18.  , 49.  , 24.  , 42.  , 37.  , 44.  , 35.  , 36.  ,\n",
       "       30.  , 27.  , 22.  , 40.  , 39.  , 21.  , 18.  , 22.  , 35.  ,\n",
       "       24.  , 34.  , 26.  ,  4.  , 26.  , 27.  , 42.  , 20.  , 21.  ,\n",
       "       21.  , 61.  , 57.  , 21.  , 26.  , 18.  , 80.  , 51.  , 32.  ,\n",
       "       30.  ,  9.  , 28.  , 32.  , 31.  , 41.  , 37.  , 20.  , 24.  ,\n",
       "        2.  , 32.  ,  0.75, 48.  , 19.  , 56.  , 21.  , 23.  , 23.  ,\n",
       "       18.  , 21.  , 16.  , 18.  , 24.  , 27.  , 32.  , 23.  , 58.  ,\n",
       "       50.  , 40.  , 47.  , 36.  , 20.  , 32.  , 25.  , 49.  , 43.  ,\n",
       "       48.  , 40.  , 31.  , 70.  , 31.  , 19.  , 18.  , 24.5 , 18.  ,\n",
       "       43.  , 36.  , 28.  , 27.  , 20.  , 14.  , 60.  , 25.  , 14.  ,\n",
       "       19.  , 18.  , 15.  , 31.  ,  4.  , 37.  , 25.  , 60.  , 52.  ,\n",
       "       44.  , 19.  , 49.  , 42.  , 18.  , 35.  , 18.  , 25.  , 26.  ,\n",
       "       39.  , 45.  , 42.  , 22.  ,  4.  , 24.  , 41.  , 48.  , 29.  ,\n",
       "       52.  , 19.  , 38.  , 27.  , 33.  ,  6.  , 17.  , 34.  , 50.  ,\n",
       "       27.  , 20.  , 30.  , 28.  , 25.  , 25.  , 29.  , 11.  , 41.  ,\n",
       "       23.  , 23.  , 28.5 , 48.  , 35.  , 20.  , 32.  , 45.  , 36.  ,\n",
       "       21.  , 24.  , 31.  , 70.  , 16.  , 30.  , 19.  , 31.  ,  4.  ,\n",
       "        6.  , 33.  , 23.  , 48.  ,  0.67, 28.  , 18.  , 34.  , 33.  ,\n",
       "       23.  , 41.  , 20.  , 36.  , 16.  , 51.  , 46.  , 30.5 , 28.  ,\n",
       "       32.  , 24.  , 48.  , 57.  , 29.  , 54.  , 18.  , 20.  ,  5.  ,\n",
       "       22.  , 43.  , 13.  , 17.  , 29.  , 35.  , 25.  , 25.  , 18.  ,\n",
       "        8.  ,  1.  , 46.  , 20.  , 16.  , 21.  , 43.  , 25.  , 39.  ,\n",
       "       49.  , 31.  , 30.  , 30.  , 34.  , 31.  , 11.  ,  0.42, 27.  ,\n",
       "       31.  , 39.  , 18.  , 39.  , 33.  , 26.  , 39.  , 35.  ,  6.  ,\n",
       "       30.5 , 39.  , 23.  , 31.  , 43.  , 10.  , 52.  , 27.  , 38.  ,\n",
       "       27.  ,  2.  , 36.  , 23.  ,  1.  , 19.  , 62.  , 15.  ,  0.83,\n",
       "       30.  , 23.  , 18.  , 39.  , 21.  , 20.  , 32.  , 29.  , 20.  ,\n",
       "       16.  , 30.  , 34.5 , 17.  , 42.  , 18.  , 35.  , 28.  , 40.  ,\n",
       "        4.  , 74.  ,  9.  , 16.  , 44.  , 18.  , 45.  , 51.  , 24.  ,\n",
       "       30.  , 41.  , 21.  , 48.  , 14.  , 24.  , 42.  , 27.  , 31.  ,\n",
       "       23.  ,  4.  , 26.  , 47.  , 33.  , 47.  , 28.  , 15.  , 20.  ,\n",
       "       19.  , 23.  , 56.  , 25.  , 33.  , 22.  , 28.  , 25.  , 39.  ,\n",
       "       27.  , 19.  ,  7.  , 26.  , 32.  ])"
      ]
     },
     "execution_count": 22,
     "metadata": {},
     "output_type": "execute_result"
    }
   ],
   "source": [
    "# select single column\n",
    "arr[:,2]"
   ]
  },
  {
   "cell_type": "markdown",
   "id": "muslim-crack",
   "metadata": {},
   "source": [
    "## Masking\n",
    "A mask is a boolean array (True/False values) that tells us which values from the array we’re interested in."
   ]
  },
  {
   "cell_type": "code",
   "execution_count": 25,
   "id": "encouraging-military",
   "metadata": {},
   "outputs": [],
   "source": [
    "arr = df[['Pclass','Fare','Age']].values"
   ]
  },
  {
   "cell_type": "code",
   "execution_count": 26,
   "id": "collaborative-hometown",
   "metadata": {},
   "outputs": [
    {
     "data": {
      "text/plain": [
       "array([[ 3.    ,  7.25  , 22.    ],\n",
       "       [ 1.    , 71.2833, 38.    ],\n",
       "       [ 3.    ,  7.925 , 26.    ],\n",
       "       ...,\n",
       "       [ 3.    , 23.45  ,  7.    ],\n",
       "       [ 1.    , 30.    , 26.    ],\n",
       "       [ 3.    ,  7.75  , 32.    ]])"
      ]
     },
     "execution_count": 26,
     "metadata": {},
     "output_type": "execute_result"
    }
   ],
   "source": [
    "arr"
   ]
  },
  {
   "cell_type": "code",
   "execution_count": 27,
   "id": "regional-dispute",
   "metadata": {},
   "outputs": [
    {
     "data": {
      "text/plain": [
       "array([22.  , 38.  , 26.  , 35.  , 35.  , 27.  , 54.  ,  2.  , 27.  ,\n",
       "       14.  ,  4.  , 58.  , 20.  , 39.  , 14.  , 55.  ,  2.  , 23.  ,\n",
       "       31.  , 22.  , 35.  , 34.  , 15.  , 28.  ,  8.  , 38.  , 26.  ,\n",
       "       19.  , 24.  , 23.  , 40.  , 48.  , 18.  , 66.  , 28.  , 42.  ,\n",
       "       18.  , 21.  , 18.  , 14.  , 40.  , 27.  ,  3.  , 19.  , 30.  ,\n",
       "       20.  , 27.  , 16.  , 18.  ,  7.  , 21.  , 49.  , 29.  , 65.  ,\n",
       "       46.  , 21.  , 28.5 ,  5.  , 11.  , 22.  , 38.  , 45.  ,  4.  ,\n",
       "       64.  ,  7.  , 29.  , 19.  , 17.  , 26.  , 32.  , 16.  , 21.  ,\n",
       "       26.  , 32.  , 25.  , 23.  , 28.  ,  0.83, 30.  , 22.  , 29.  ,\n",
       "       31.  , 28.  , 17.  , 33.  , 16.  , 20.  , 23.  , 24.  , 29.  ,\n",
       "       20.  , 46.  , 26.  , 59.  , 22.  , 71.  , 23.  , 34.  , 34.  ,\n",
       "       28.  , 29.  , 21.  , 33.  , 37.  , 28.  , 21.  , 29.  , 38.  ,\n",
       "       28.  , 47.  , 14.5 , 22.  , 20.  , 17.  , 21.  , 70.5 , 29.  ,\n",
       "       24.  ,  2.  , 21.  , 19.  , 32.5 , 32.5 , 54.  , 12.  , 19.  ,\n",
       "       24.  ,  2.  , 45.  , 33.  , 20.  , 47.  , 29.  , 25.  , 23.  ,\n",
       "       19.  , 37.  , 16.  , 24.  , 40.  , 22.  , 24.  , 19.  , 18.  ,\n",
       "       19.  , 27.  ,  9.  , 36.5 , 42.  , 51.  , 22.  , 55.5 , 40.5 ,\n",
       "       27.  , 51.  , 16.  , 30.  , 37.  ,  5.  , 44.  , 40.  , 26.  ,\n",
       "       17.  ,  1.  ,  9.  , 48.  , 45.  , 60.  , 28.  , 61.  ,  4.  ,\n",
       "        1.  , 21.  , 56.  , 18.  ,  5.  , 50.  , 30.  , 36.  ,  8.  ,\n",
       "       39.  ,  9.  ,  1.  ,  4.  , 39.  , 26.  , 45.  , 40.  , 36.  ,\n",
       "       32.  , 19.  , 19.  ,  3.  , 44.  , 58.  , 28.  , 42.  , 21.  ,\n",
       "       24.  , 28.  , 17.  , 34.  , 45.5 , 18.  ,  2.  , 32.  , 26.  ,\n",
       "       16.  , 40.  , 24.  , 35.  , 22.  , 30.  , 22.  , 31.  , 27.  ,\n",
       "       42.  , 32.  , 30.  , 16.  , 27.  , 51.  , 22.  , 38.  , 22.  ,\n",
       "       19.  , 20.5 , 18.  , 12.  , 35.  , 29.  , 59.  ,  5.  , 24.  ,\n",
       "       21.  , 44.  ,  8.  , 19.  , 33.  , 19.  , 18.  , 29.  , 22.  ,\n",
       "       30.  , 44.  , 25.  , 24.  , 37.  , 54.  , 18.  , 29.  , 62.  ,\n",
       "       30.  , 41.  , 29.  , 38.  , 30.  , 35.  , 50.  ,  3.  , 52.  ,\n",
       "       40.  , 21.  , 36.  , 16.  , 25.  , 58.  , 35.  , 28.  , 25.  ,\n",
       "       41.  , 37.  , 33.  , 63.  , 45.  , 21.  ,  7.  , 35.  , 65.  ,\n",
       "       28.  , 16.  , 19.  , 57.  , 33.  , 30.  , 22.  , 42.  , 22.  ,\n",
       "       26.  , 19.  , 36.  , 24.  , 24.  , 30.  , 23.5 ,  2.  , 47.  ,\n",
       "       50.  , 20.  , 24.  , 19.  , 46.  , 28.  ,  0.92, 42.  , 17.  ,\n",
       "       30.  , 30.  , 24.  , 18.  , 26.  , 28.  , 43.  , 26.  , 24.  ,\n",
       "       54.  , 31.  , 40.  , 22.  , 27.  , 30.  , 22.  , 20.  , 36.  ,\n",
       "       61.  , 36.  , 31.  , 16.  , 28.  , 45.5 , 38.  , 16.  , 42.  ,\n",
       "       30.  , 29.  , 41.  , 45.  , 45.  ,  2.  , 24.  , 28.  , 25.  ,\n",
       "       36.  , 24.  , 40.  , 34.  ,  3.  , 42.  , 23.  , 43.  , 15.  ,\n",
       "       25.  , 23.  , 28.  , 22.  , 38.  , 22.  , 23.  , 40.  , 29.  ,\n",
       "       45.  , 35.  , 27.  , 30.  , 60.  , 35.  , 22.  , 24.  , 25.  ,\n",
       "       18.  , 19.  , 22.  ,  3.  , 25.  , 22.  , 27.  , 20.  , 19.  ,\n",
       "       42.  ,  1.  , 32.  , 35.  , 27.  , 18.  ,  1.  , 36.  , 19.  ,\n",
       "       17.  , 36.  , 21.  , 28.  , 23.  , 24.  , 22.  , 31.  , 46.  ,\n",
       "       23.  , 28.  , 39.  , 26.  , 21.  , 28.  , 20.  , 34.  , 51.  ,\n",
       "        3.  , 21.  ,  3.  , 42.  , 27.  , 33.  , 22.  , 44.  , 32.  ,\n",
       "       34.  , 18.  , 30.  , 10.  , 21.  , 29.  , 28.  , 18.  , 54.  ,\n",
       "       28.  , 19.  , 28.  , 32.  , 28.  , 33.  , 42.  , 17.  , 50.  ,\n",
       "       14.  , 21.  , 24.  , 64.  , 31.  , 45.  , 20.  , 25.  , 28.  ,\n",
       "       29.  ,  4.  , 13.  , 34.  ,  5.  , 52.  , 36.  , 28.  , 30.  ,\n",
       "       49.  , 24.  , 29.  , 65.  , 41.  , 50.  , 17.  , 48.  , 34.  ,\n",
       "       47.  , 48.  , 34.  , 38.  , 21.  , 56.  , 22.  ,  0.75, 39.  ,\n",
       "       38.  , 33.  , 23.  , 22.  , 40.  , 34.  , 29.  , 22.  ,  2.  ,\n",
       "        9.  , 37.  , 50.  , 63.  , 25.  ,  8.  , 35.  , 58.  , 30.  ,\n",
       "        9.  , 19.  , 21.  , 55.  , 71.  , 21.  , 26.  , 54.  , 55.  ,\n",
       "       25.  , 24.  , 17.  , 21.  , 21.  , 37.  , 16.  , 18.  , 33.  ,\n",
       "       37.  , 28.  , 26.  , 29.  , 66.  , 36.  , 54.  , 24.  , 47.  ,\n",
       "       34.  , 30.  , 36.  , 32.  , 30.  , 22.  , 35.  , 44.  , 18.  ,\n",
       "       40.5 , 50.  , 49.  , 39.  , 23.  ,  2.  , 17.  , 17.  , 24.  ,\n",
       "       30.  ,  7.  , 45.  , 30.  , 69.  , 22.  , 36.  ,  9.  , 11.  ,\n",
       "       32.  , 50.  , 64.  , 19.  , 27.  , 33.  ,  8.  , 17.  , 27.  ,\n",
       "       21.  , 22.  , 22.  , 62.  , 48.  , 45.  , 39.  , 36.  , 30.  ,\n",
       "       40.  , 28.  , 40.  , 62.  , 24.  , 19.  , 29.  , 28.  , 32.  ,\n",
       "       62.  , 53.  , 36.  , 22.  , 16.  , 19.  , 34.  , 39.  , 18.  ,\n",
       "       32.  , 25.  , 39.  , 54.  , 36.  , 16.  , 18.  , 47.  , 60.  ,\n",
       "       22.  , 22.  , 35.  , 52.  , 47.  , 40.  , 37.  , 36.  , 31.  ,\n",
       "       49.  , 18.  , 49.  , 24.  , 42.  , 37.  , 44.  , 35.  , 36.  ,\n",
       "       30.  , 27.  , 22.  , 40.  , 39.  , 21.  , 18.  , 22.  , 35.  ,\n",
       "       24.  , 34.  , 26.  ,  4.  , 26.  , 27.  , 42.  , 20.  , 21.  ,\n",
       "       21.  , 61.  , 57.  , 21.  , 26.  , 18.  , 80.  , 51.  , 32.  ,\n",
       "       30.  ,  9.  , 28.  , 32.  , 31.  , 41.  , 37.  , 20.  , 24.  ,\n",
       "        2.  , 32.  ,  0.75, 48.  , 19.  , 56.  , 21.  , 23.  , 23.  ,\n",
       "       18.  , 21.  , 16.  , 18.  , 24.  , 27.  , 32.  , 23.  , 58.  ,\n",
       "       50.  , 40.  , 47.  , 36.  , 20.  , 32.  , 25.  , 49.  , 43.  ,\n",
       "       48.  , 40.  , 31.  , 70.  , 31.  , 19.  , 18.  , 24.5 , 18.  ,\n",
       "       43.  , 36.  , 28.  , 27.  , 20.  , 14.  , 60.  , 25.  , 14.  ,\n",
       "       19.  , 18.  , 15.  , 31.  ,  4.  , 37.  , 25.  , 60.  , 52.  ,\n",
       "       44.  , 19.  , 49.  , 42.  , 18.  , 35.  , 18.  , 25.  , 26.  ,\n",
       "       39.  , 45.  , 42.  , 22.  ,  4.  , 24.  , 41.  , 48.  , 29.  ,\n",
       "       52.  , 19.  , 38.  , 27.  , 33.  ,  6.  , 17.  , 34.  , 50.  ,\n",
       "       27.  , 20.  , 30.  , 28.  , 25.  , 25.  , 29.  , 11.  , 41.  ,\n",
       "       23.  , 23.  , 28.5 , 48.  , 35.  , 20.  , 32.  , 45.  , 36.  ,\n",
       "       21.  , 24.  , 31.  , 70.  , 16.  , 30.  , 19.  , 31.  ,  4.  ,\n",
       "        6.  , 33.  , 23.  , 48.  ,  0.67, 28.  , 18.  , 34.  , 33.  ,\n",
       "       23.  , 41.  , 20.  , 36.  , 16.  , 51.  , 46.  , 30.5 , 28.  ,\n",
       "       32.  , 24.  , 48.  , 57.  , 29.  , 54.  , 18.  , 20.  ,  5.  ,\n",
       "       22.  , 43.  , 13.  , 17.  , 29.  , 35.  , 25.  , 25.  , 18.  ,\n",
       "        8.  ,  1.  , 46.  , 20.  , 16.  , 21.  , 43.  , 25.  , 39.  ,\n",
       "       49.  , 31.  , 30.  , 30.  , 34.  , 31.  , 11.  ,  0.42, 27.  ,\n",
       "       31.  , 39.  , 18.  , 39.  , 33.  , 26.  , 39.  , 35.  ,  6.  ,\n",
       "       30.5 , 39.  , 23.  , 31.  , 43.  , 10.  , 52.  , 27.  , 38.  ,\n",
       "       27.  ,  2.  , 36.  , 23.  ,  1.  , 19.  , 62.  , 15.  ,  0.83,\n",
       "       30.  , 23.  , 18.  , 39.  , 21.  , 20.  , 32.  , 29.  , 20.  ,\n",
       "       16.  , 30.  , 34.5 , 17.  , 42.  , 18.  , 35.  , 28.  , 40.  ,\n",
       "        4.  , 74.  ,  9.  , 16.  , 44.  , 18.  , 45.  , 51.  , 24.  ,\n",
       "       30.  , 41.  , 21.  , 48.  , 14.  , 24.  , 42.  , 27.  , 31.  ,\n",
       "       23.  ,  4.  , 26.  , 47.  , 33.  , 47.  , 28.  , 15.  , 20.  ,\n",
       "       19.  , 23.  , 56.  , 25.  , 33.  , 22.  , 28.  , 25.  , 39.  ,\n",
       "       27.  , 19.  ,  7.  , 26.  , 32.  ])"
      ]
     },
     "execution_count": 27,
     "metadata": {},
     "output_type": "execute_result"
    }
   ],
   "source": [
    "# get column Age\n",
    "arr[:,2]"
   ]
  },
  {
   "cell_type": "code",
   "execution_count": 28,
   "id": "prescription-revision",
   "metadata": {},
   "outputs": [],
   "source": [
    "mask = arr[:,2] < 18"
   ]
  },
  {
   "cell_type": "code",
   "execution_count": 29,
   "id": "binary-cemetery",
   "metadata": {},
   "outputs": [
    {
     "data": {
      "text/plain": [
       "array([False, False, False, False, False, False, False,  True, False,\n",
       "        True,  True, False, False, False,  True, False,  True, False,\n",
       "       False, False, False, False,  True, False,  True, False, False,\n",
       "       False, False, False, False, False, False, False, False, False,\n",
       "       False, False, False,  True, False, False,  True, False, False,\n",
       "       False, False,  True, False,  True, False, False, False, False,\n",
       "       False, False, False,  True,  True, False, False, False,  True,\n",
       "       False,  True, False, False,  True, False, False,  True, False,\n",
       "       False, False, False, False, False,  True, False, False, False,\n",
       "       False, False,  True, False,  True, False, False, False, False,\n",
       "       False, False, False, False, False, False, False, False, False,\n",
       "       False, False, False, False, False, False, False, False, False,\n",
       "       False, False,  True, False, False,  True, False, False, False,\n",
       "       False,  True, False, False, False, False, False,  True, False,\n",
       "       False,  True, False, False, False, False, False, False, False,\n",
       "       False, False,  True, False, False, False, False, False, False,\n",
       "       False, False,  True, False, False, False, False, False, False,\n",
       "       False, False,  True, False, False,  True, False, False, False,\n",
       "        True,  True,  True, False, False, False, False, False,  True,\n",
       "        True, False, False, False,  True, False, False, False,  True,\n",
       "       False,  True,  True,  True, False, False, False, False, False,\n",
       "       False, False, False,  True, False, False, False, False, False,\n",
       "       False, False,  True, False, False, False,  True, False, False,\n",
       "        True, False, False, False, False, False, False, False, False,\n",
       "       False, False, False,  True, False, False, False, False, False,\n",
       "       False, False, False,  True, False, False, False,  True, False,\n",
       "       False, False,  True, False, False, False, False, False, False,\n",
       "       False, False, False, False, False, False, False, False, False,\n",
       "       False, False, False, False, False, False, False,  True, False,\n",
       "       False, False, False,  True, False, False, False, False, False,\n",
       "       False, False, False, False, False, False,  True, False, False,\n",
       "       False,  True, False, False, False, False, False, False, False,\n",
       "       False, False, False, False, False, False, False,  True, False,\n",
       "       False, False, False, False, False, False,  True, False,  True,\n",
       "       False, False, False, False, False, False, False, False, False,\n",
       "       False, False, False, False, False, False, False, False, False,\n",
       "       False, False, False,  True, False, False, False,  True, False,\n",
       "       False, False, False, False, False,  True, False, False, False,\n",
       "       False, False, False, False,  True, False, False, False,  True,\n",
       "       False, False, False, False, False, False, False, False, False,\n",
       "       False, False, False, False, False, False, False, False, False,\n",
       "       False, False, False,  True, False, False, False, False, False,\n",
       "       False,  True, False, False, False, False,  True, False, False,\n",
       "        True, False, False, False, False, False, False, False, False,\n",
       "       False, False, False, False, False, False, False, False, False,\n",
       "        True, False,  True, False, False, False, False, False, False,\n",
       "       False, False, False,  True, False, False, False, False, False,\n",
       "       False, False, False, False, False, False, False,  True, False,\n",
       "        True, False, False, False, False, False, False, False, False,\n",
       "       False,  True,  True, False,  True, False, False, False, False,\n",
       "       False, False, False, False, False, False,  True, False, False,\n",
       "       False, False, False, False, False, False, False,  True, False,\n",
       "       False, False, False, False, False, False, False, False,  True,\n",
       "        True, False, False, False, False,  True, False, False, False,\n",
       "        True, False, False, False, False, False, False, False, False,\n",
       "       False, False,  True, False, False, False,  True, False, False,\n",
       "       False, False, False, False, False, False, False, False, False,\n",
       "       False, False, False, False, False, False, False, False, False,\n",
       "       False, False, False, False, False,  True,  True,  True, False,\n",
       "       False,  True, False, False, False, False, False,  True,  True,\n",
       "       False, False, False, False, False, False,  True,  True, False,\n",
       "       False, False, False, False, False, False, False, False, False,\n",
       "       False, False, False, False, False, False, False, False, False,\n",
       "       False, False, False, False,  True, False, False, False, False,\n",
       "       False, False, False, False, False,  True, False, False, False,\n",
       "       False, False, False, False, False, False, False, False, False,\n",
       "       False, False, False, False, False, False, False, False, False,\n",
       "       False, False, False, False, False, False, False, False, False,\n",
       "       False, False, False,  True, False, False, False, False, False,\n",
       "       False, False, False, False, False, False, False, False, False,\n",
       "       False,  True, False, False, False, False, False, False, False,\n",
       "        True, False,  True, False, False, False, False, False, False,\n",
       "       False, False,  True, False, False, False, False, False, False,\n",
       "       False, False, False, False, False, False, False, False, False,\n",
       "       False, False, False, False, False, False, False, False, False,\n",
       "       False, False, False, False, False,  True, False, False,  True,\n",
       "       False, False,  True, False,  True, False, False, False, False,\n",
       "       False, False, False, False, False, False, False, False, False,\n",
       "       False, False, False, False,  True, False, False, False, False,\n",
       "       False, False, False, False, False,  True,  True, False, False,\n",
       "       False, False, False, False, False, False, False,  True, False,\n",
       "       False, False, False, False, False, False, False, False, False,\n",
       "       False, False, False, False,  True, False, False, False,  True,\n",
       "        True, False, False, False,  True, False, False, False, False,\n",
       "       False, False, False, False,  True, False, False, False, False,\n",
       "       False, False, False, False, False, False, False, False,  True,\n",
       "       False, False,  True,  True, False, False, False, False, False,\n",
       "        True,  True, False, False,  True, False, False, False, False,\n",
       "       False, False, False, False, False, False,  True,  True, False,\n",
       "       False, False, False, False, False, False, False, False,  True,\n",
       "       False, False, False, False, False,  True, False, False, False,\n",
       "       False,  True, False, False,  True, False, False,  True,  True,\n",
       "       False, False, False, False, False, False, False, False, False,\n",
       "        True, False, False,  True, False, False, False, False, False,\n",
       "        True, False,  True,  True, False, False, False, False, False,\n",
       "       False, False, False, False,  True, False, False, False, False,\n",
       "       False,  True, False, False, False, False, False,  True, False,\n",
       "       False, False, False, False, False, False, False, False, False,\n",
       "       False, False,  True, False, False])"
      ]
     },
     "execution_count": 29,
     "metadata": {},
     "output_type": "execute_result"
    }
   ],
   "source": [
    "mask"
   ]
  },
  {
   "cell_type": "code",
   "execution_count": 30,
   "id": "plastic-riding",
   "metadata": {},
   "outputs": [
    {
     "data": {
      "text/plain": [
       "array([[  3.    ,  21.075 ,   2.    ],\n",
       "       [  2.    ,  30.0708,  14.    ],\n",
       "       [  3.    ,  16.7   ,   4.    ],\n",
       "       [  3.    ,   7.8542,  14.    ],\n",
       "       [  3.    ,  29.125 ,   2.    ],\n",
       "       [  3.    ,   8.0292,  15.    ],\n",
       "       [  3.    ,  21.075 ,   8.    ],\n",
       "       [  3.    ,  11.2417,  14.    ],\n",
       "       [  2.    ,  41.5792,   3.    ],\n",
       "       [  3.    ,  21.6792,  16.    ],\n",
       "       [  3.    ,  39.6875,   7.    ],\n",
       "       [  2.    ,  27.75  ,   5.    ],\n",
       "       [  3.    ,  46.9   ,  11.    ],\n",
       "       [  3.    ,  27.9   ,   4.    ],\n",
       "       [  3.    ,  15.2458,   7.    ],\n",
       "       [  3.    ,   7.925 ,  17.    ],\n",
       "       [  3.    ,  46.9   ,  16.    ],\n",
       "       [  2.    ,  29.    ,   0.83  ],\n",
       "       [  2.    ,  10.5   ,  17.    ],\n",
       "       [  3.    ,  34.375 ,  16.    ],\n",
       "       [  3.    ,  14.4542,  14.5   ],\n",
       "       [  3.    ,  14.4583,  17.    ],\n",
       "       [  3.    ,  31.275 ,   2.    ],\n",
       "       [  3.    ,  11.2417,  12.    ],\n",
       "       [  3.    ,  22.3583,   2.    ],\n",
       "       [  3.    ,   9.2167,  16.    ],\n",
       "       [  3.    ,  34.375 ,   9.    ],\n",
       "       [  3.    ,   7.7333,  16.    ],\n",
       "       [  3.    ,  69.55  ,   5.    ],\n",
       "       [  3.    ,   8.6625,  17.    ],\n",
       "       [  3.    ,  39.6875,   1.    ],\n",
       "       [  3.    ,  20.525 ,   9.    ],\n",
       "       [  3.    ,  29.125 ,   4.    ],\n",
       "       [  3.    ,  11.1333,   1.    ],\n",
       "       [  3.    ,  25.4667,   5.    ],\n",
       "       [  3.    ,  69.55  ,   8.    ],\n",
       "       [  3.    ,  31.3875,   9.    ],\n",
       "       [  2.    ,  39.    ,   1.    ],\n",
       "       [  3.    ,  22.025 ,   4.    ],\n",
       "       [  2.    ,  26.    ,   3.    ],\n",
       "       [  3.    ,  69.55  ,  17.    ],\n",
       "       [  3.    ,  10.4625,   2.    ],\n",
       "       [  3.    ,   7.75  ,  16.    ],\n",
       "       [  3.    ,   8.05  ,  16.    ],\n",
       "       [  3.    ,  25.4667,  12.    ],\n",
       "       [  3.    ,  31.3875,   5.    ],\n",
       "       [  2.    ,  26.25  ,   8.    ],\n",
       "       [  3.    ,  31.3875,   3.    ],\n",
       "       [  3.    ,  39.6875,  16.    ],\n",
       "       [  3.    ,  29.125 ,   7.    ],\n",
       "       [  3.    ,   9.5   ,  16.    ],\n",
       "       [  1.    , 151.55  ,   2.    ],\n",
       "       [  1.    , 151.55  ,   0.92  ],\n",
       "       [  1.    , 108.9   ,  17.    ],\n",
       "       [  1.    ,  57.9792,  16.    ],\n",
       "       [  3.    ,  18.    ,  16.    ],\n",
       "       [  2.    ,  26.    ,   2.    ],\n",
       "       [  3.    ,  15.9   ,   3.    ],\n",
       "       [  3.    ,   7.2292,  15.    ],\n",
       "       [  3.    ,  21.075 ,   3.    ],\n",
       "       [  3.    ,  15.7417,   1.    ],\n",
       "       [  3.    ,  46.9   ,   1.    ],\n",
       "       [  2.    ,  12.    ,  17.    ],\n",
       "       [  2.    ,  18.75  ,   3.    ],\n",
       "       [  3.    ,  25.4667,   3.    ],\n",
       "       [  3.    ,  24.15  ,  10.    ],\n",
       "       [  3.    ,   7.125 ,  17.    ],\n",
       "       [  1.    , 120.    ,  14.    ],\n",
       "       [  1.    ,  81.8583,   4.    ],\n",
       "       [  2.    ,  19.5   ,  13.    ],\n",
       "       [  3.    ,  19.2583,   5.    ],\n",
       "       [  3.    ,   7.75  ,  17.    ],\n",
       "       [  3.    ,  19.2583,   0.75  ],\n",
       "       [  3.    ,  12.2875,   2.    ],\n",
       "       [  3.    ,  46.9   ,   9.    ],\n",
       "       [  3.    ,  25.4667,   8.    ],\n",
       "       [  3.    ,  15.9   ,   9.    ],\n",
       "       [  3.    ,   8.6625,  17.    ],\n",
       "       [  1.    ,  86.5   ,  16.    ],\n",
       "       [  2.    ,  26.    ,   2.    ],\n",
       "       [  3.    ,   7.2292,  17.    ],\n",
       "       [  3.    ,   7.2292,  17.    ],\n",
       "       [  2.    ,  26.25  ,   7.    ],\n",
       "       [  3.    ,  31.275 ,   9.    ],\n",
       "       [  3.    ,  31.275 ,  11.    ],\n",
       "       [  2.    ,  36.75  ,   8.    ],\n",
       "       [  1.    , 110.8833,  17.    ],\n",
       "       [  3.    ,   8.05  ,  16.    ],\n",
       "       [  3.    ,   8.7125,  16.    ],\n",
       "       [  2.    ,  39.    ,   4.    ],\n",
       "       [  3.    ,  27.9   ,   9.    ],\n",
       "       [  3.    ,  27.9   ,   2.    ],\n",
       "       [  3.    ,  19.2583,   0.75  ],\n",
       "       [  3.    ,   7.8292,  16.    ],\n",
       "       [  3.    ,  46.9   ,  14.    ],\n",
       "       [  3.    ,  39.6875,  14.    ],\n",
       "       [  1.    , 211.3375,  15.    ],\n",
       "       [  3.    ,  13.4167,   4.    ],\n",
       "       [  3.    ,  15.2458,   4.    ],\n",
       "       [  2.    ,  33.    ,   6.    ],\n",
       "       [  3.    ,   7.0542,  17.    ],\n",
       "       [  3.    ,  18.7875,  11.    ],\n",
       "       [  3.    ,  20.25  ,  16.    ],\n",
       "       [  2.    ,  23.    ,   4.    ],\n",
       "       [  3.    ,  12.475 ,   6.    ],\n",
       "       [  2.    ,  14.5   ,   0.67  ],\n",
       "       [  3.    ,   7.775 ,  16.    ],\n",
       "       [  3.    ,  12.475 ,   5.    ],\n",
       "       [  3.    ,   7.2292,  13.    ],\n",
       "       [  1.    ,  57.    ,  17.    ],\n",
       "       [  3.    ,  29.125 ,   8.    ],\n",
       "       [  3.    ,  20.575 ,   1.    ],\n",
       "       [  2.    ,  26.    ,  16.    ],\n",
       "       [  1.    , 120.    ,  11.    ],\n",
       "       [  3.    ,   8.5167,   0.42  ],\n",
       "       [  3.    ,  31.275 ,   6.    ],\n",
       "       [  3.    ,  27.9   ,  10.    ],\n",
       "       [  3.    ,  39.6875,   2.    ],\n",
       "       [  2.    ,  37.0042,   1.    ],\n",
       "       [  3.    ,  14.4542,  15.    ],\n",
       "       [  2.    ,  18.75  ,   0.83  ],\n",
       "       [  2.    ,  10.5   ,  16.    ],\n",
       "       [  3.    ,   8.6625,  17.    ],\n",
       "       [  3.    ,  31.275 ,   4.    ],\n",
       "       [  3.    ,  15.2458,   9.    ],\n",
       "       [  1.    ,  39.4   ,  16.    ],\n",
       "       [  3.    ,  69.55  ,  14.    ],\n",
       "       [  3.    ,  11.1333,   4.    ],\n",
       "       [  3.    ,   7.225 ,  15.    ],\n",
       "       [  3.    ,  23.45  ,   7.    ]])"
      ]
     },
     "execution_count": 30,
     "metadata": {},
     "output_type": "execute_result"
    }
   ],
   "source": [
    "arr[mask]"
   ]
  },
  {
   "cell_type": "code",
   "execution_count": 31,
   "id": "prepared-maintenance",
   "metadata": {},
   "outputs": [],
   "source": [
    "arr_mask = arr[mask]"
   ]
  },
  {
   "cell_type": "code",
   "execution_count": 32,
   "id": "wrong-space",
   "metadata": {},
   "outputs": [
    {
     "data": {
      "text/plain": [
       "array([[  3.    ,  21.075 ,   2.    ],\n",
       "       [  2.    ,  30.0708,  14.    ],\n",
       "       [  3.    ,  16.7   ,   4.    ],\n",
       "       [  3.    ,   7.8542,  14.    ],\n",
       "       [  3.    ,  29.125 ,   2.    ],\n",
       "       [  3.    ,   8.0292,  15.    ],\n",
       "       [  3.    ,  21.075 ,   8.    ],\n",
       "       [  3.    ,  11.2417,  14.    ],\n",
       "       [  2.    ,  41.5792,   3.    ],\n",
       "       [  3.    ,  21.6792,  16.    ],\n",
       "       [  3.    ,  39.6875,   7.    ],\n",
       "       [  2.    ,  27.75  ,   5.    ],\n",
       "       [  3.    ,  46.9   ,  11.    ],\n",
       "       [  3.    ,  27.9   ,   4.    ],\n",
       "       [  3.    ,  15.2458,   7.    ],\n",
       "       [  3.    ,   7.925 ,  17.    ],\n",
       "       [  3.    ,  46.9   ,  16.    ],\n",
       "       [  2.    ,  29.    ,   0.83  ],\n",
       "       [  2.    ,  10.5   ,  17.    ],\n",
       "       [  3.    ,  34.375 ,  16.    ],\n",
       "       [  3.    ,  14.4542,  14.5   ],\n",
       "       [  3.    ,  14.4583,  17.    ],\n",
       "       [  3.    ,  31.275 ,   2.    ],\n",
       "       [  3.    ,  11.2417,  12.    ],\n",
       "       [  3.    ,  22.3583,   2.    ],\n",
       "       [  3.    ,   9.2167,  16.    ],\n",
       "       [  3.    ,  34.375 ,   9.    ],\n",
       "       [  3.    ,   7.7333,  16.    ],\n",
       "       [  3.    ,  69.55  ,   5.    ],\n",
       "       [  3.    ,   8.6625,  17.    ],\n",
       "       [  3.    ,  39.6875,   1.    ],\n",
       "       [  3.    ,  20.525 ,   9.    ],\n",
       "       [  3.    ,  29.125 ,   4.    ],\n",
       "       [  3.    ,  11.1333,   1.    ],\n",
       "       [  3.    ,  25.4667,   5.    ],\n",
       "       [  3.    ,  69.55  ,   8.    ],\n",
       "       [  3.    ,  31.3875,   9.    ],\n",
       "       [  2.    ,  39.    ,   1.    ],\n",
       "       [  3.    ,  22.025 ,   4.    ],\n",
       "       [  2.    ,  26.    ,   3.    ],\n",
       "       [  3.    ,  69.55  ,  17.    ],\n",
       "       [  3.    ,  10.4625,   2.    ],\n",
       "       [  3.    ,   7.75  ,  16.    ],\n",
       "       [  3.    ,   8.05  ,  16.    ],\n",
       "       [  3.    ,  25.4667,  12.    ],\n",
       "       [  3.    ,  31.3875,   5.    ],\n",
       "       [  2.    ,  26.25  ,   8.    ],\n",
       "       [  3.    ,  31.3875,   3.    ],\n",
       "       [  3.    ,  39.6875,  16.    ],\n",
       "       [  3.    ,  29.125 ,   7.    ],\n",
       "       [  3.    ,   9.5   ,  16.    ],\n",
       "       [  1.    , 151.55  ,   2.    ],\n",
       "       [  1.    , 151.55  ,   0.92  ],\n",
       "       [  1.    , 108.9   ,  17.    ],\n",
       "       [  1.    ,  57.9792,  16.    ],\n",
       "       [  3.    ,  18.    ,  16.    ],\n",
       "       [  2.    ,  26.    ,   2.    ],\n",
       "       [  3.    ,  15.9   ,   3.    ],\n",
       "       [  3.    ,   7.2292,  15.    ],\n",
       "       [  3.    ,  21.075 ,   3.    ],\n",
       "       [  3.    ,  15.7417,   1.    ],\n",
       "       [  3.    ,  46.9   ,   1.    ],\n",
       "       [  2.    ,  12.    ,  17.    ],\n",
       "       [  2.    ,  18.75  ,   3.    ],\n",
       "       [  3.    ,  25.4667,   3.    ],\n",
       "       [  3.    ,  24.15  ,  10.    ],\n",
       "       [  3.    ,   7.125 ,  17.    ],\n",
       "       [  1.    , 120.    ,  14.    ],\n",
       "       [  1.    ,  81.8583,   4.    ],\n",
       "       [  2.    ,  19.5   ,  13.    ],\n",
       "       [  3.    ,  19.2583,   5.    ],\n",
       "       [  3.    ,   7.75  ,  17.    ],\n",
       "       [  3.    ,  19.2583,   0.75  ],\n",
       "       [  3.    ,  12.2875,   2.    ],\n",
       "       [  3.    ,  46.9   ,   9.    ],\n",
       "       [  3.    ,  25.4667,   8.    ],\n",
       "       [  3.    ,  15.9   ,   9.    ],\n",
       "       [  3.    ,   8.6625,  17.    ],\n",
       "       [  1.    ,  86.5   ,  16.    ],\n",
       "       [  2.    ,  26.    ,   2.    ],\n",
       "       [  3.    ,   7.2292,  17.    ],\n",
       "       [  3.    ,   7.2292,  17.    ],\n",
       "       [  2.    ,  26.25  ,   7.    ],\n",
       "       [  3.    ,  31.275 ,   9.    ],\n",
       "       [  3.    ,  31.275 ,  11.    ],\n",
       "       [  2.    ,  36.75  ,   8.    ],\n",
       "       [  1.    , 110.8833,  17.    ],\n",
       "       [  3.    ,   8.05  ,  16.    ],\n",
       "       [  3.    ,   8.7125,  16.    ],\n",
       "       [  2.    ,  39.    ,   4.    ],\n",
       "       [  3.    ,  27.9   ,   9.    ],\n",
       "       [  3.    ,  27.9   ,   2.    ],\n",
       "       [  3.    ,  19.2583,   0.75  ],\n",
       "       [  3.    ,   7.8292,  16.    ],\n",
       "       [  3.    ,  46.9   ,  14.    ],\n",
       "       [  3.    ,  39.6875,  14.    ],\n",
       "       [  1.    , 211.3375,  15.    ],\n",
       "       [  3.    ,  13.4167,   4.    ],\n",
       "       [  3.    ,  15.2458,   4.    ],\n",
       "       [  2.    ,  33.    ,   6.    ],\n",
       "       [  3.    ,   7.0542,  17.    ],\n",
       "       [  3.    ,  18.7875,  11.    ],\n",
       "       [  3.    ,  20.25  ,  16.    ],\n",
       "       [  2.    ,  23.    ,   4.    ],\n",
       "       [  3.    ,  12.475 ,   6.    ],\n",
       "       [  2.    ,  14.5   ,   0.67  ],\n",
       "       [  3.    ,   7.775 ,  16.    ],\n",
       "       [  3.    ,  12.475 ,   5.    ],\n",
       "       [  3.    ,   7.2292,  13.    ],\n",
       "       [  1.    ,  57.    ,  17.    ],\n",
       "       [  3.    ,  29.125 ,   8.    ],\n",
       "       [  3.    ,  20.575 ,   1.    ],\n",
       "       [  2.    ,  26.    ,  16.    ],\n",
       "       [  1.    , 120.    ,  11.    ],\n",
       "       [  3.    ,   8.5167,   0.42  ],\n",
       "       [  3.    ,  31.275 ,   6.    ],\n",
       "       [  3.    ,  27.9   ,  10.    ],\n",
       "       [  3.    ,  39.6875,   2.    ],\n",
       "       [  2.    ,  37.0042,   1.    ],\n",
       "       [  3.    ,  14.4542,  15.    ],\n",
       "       [  2.    ,  18.75  ,   0.83  ],\n",
       "       [  2.    ,  10.5   ,  16.    ],\n",
       "       [  3.    ,   8.6625,  17.    ],\n",
       "       [  3.    ,  31.275 ,   4.    ],\n",
       "       [  3.    ,  15.2458,   9.    ],\n",
       "       [  1.    ,  39.4   ,  16.    ],\n",
       "       [  3.    ,  69.55  ,  14.    ],\n",
       "       [  3.    ,  11.1333,   4.    ],\n",
       "       [  3.    ,   7.225 ,  15.    ],\n",
       "       [  3.    ,  23.45  ,   7.    ]])"
      ]
     },
     "execution_count": 32,
     "metadata": {},
     "output_type": "execute_result"
    }
   ],
   "source": [
    "arr_mask"
   ]
  },
  {
   "cell_type": "code",
   "execution_count": 33,
   "id": "happy-prime",
   "metadata": {},
   "outputs": [],
   "source": [
    "new_mask = arr[arr[:,2] < 18]"
   ]
  },
  {
   "cell_type": "code",
   "execution_count": 34,
   "id": "polyphonic-prince",
   "metadata": {},
   "outputs": [
    {
     "data": {
      "text/plain": [
       "array([[  3.    ,  21.075 ,   2.    ],\n",
       "       [  2.    ,  30.0708,  14.    ],\n",
       "       [  3.    ,  16.7   ,   4.    ],\n",
       "       [  3.    ,   7.8542,  14.    ],\n",
       "       [  3.    ,  29.125 ,   2.    ],\n",
       "       [  3.    ,   8.0292,  15.    ],\n",
       "       [  3.    ,  21.075 ,   8.    ],\n",
       "       [  3.    ,  11.2417,  14.    ],\n",
       "       [  2.    ,  41.5792,   3.    ],\n",
       "       [  3.    ,  21.6792,  16.    ],\n",
       "       [  3.    ,  39.6875,   7.    ],\n",
       "       [  2.    ,  27.75  ,   5.    ],\n",
       "       [  3.    ,  46.9   ,  11.    ],\n",
       "       [  3.    ,  27.9   ,   4.    ],\n",
       "       [  3.    ,  15.2458,   7.    ],\n",
       "       [  3.    ,   7.925 ,  17.    ],\n",
       "       [  3.    ,  46.9   ,  16.    ],\n",
       "       [  2.    ,  29.    ,   0.83  ],\n",
       "       [  2.    ,  10.5   ,  17.    ],\n",
       "       [  3.    ,  34.375 ,  16.    ],\n",
       "       [  3.    ,  14.4542,  14.5   ],\n",
       "       [  3.    ,  14.4583,  17.    ],\n",
       "       [  3.    ,  31.275 ,   2.    ],\n",
       "       [  3.    ,  11.2417,  12.    ],\n",
       "       [  3.    ,  22.3583,   2.    ],\n",
       "       [  3.    ,   9.2167,  16.    ],\n",
       "       [  3.    ,  34.375 ,   9.    ],\n",
       "       [  3.    ,   7.7333,  16.    ],\n",
       "       [  3.    ,  69.55  ,   5.    ],\n",
       "       [  3.    ,   8.6625,  17.    ],\n",
       "       [  3.    ,  39.6875,   1.    ],\n",
       "       [  3.    ,  20.525 ,   9.    ],\n",
       "       [  3.    ,  29.125 ,   4.    ],\n",
       "       [  3.    ,  11.1333,   1.    ],\n",
       "       [  3.    ,  25.4667,   5.    ],\n",
       "       [  3.    ,  69.55  ,   8.    ],\n",
       "       [  3.    ,  31.3875,   9.    ],\n",
       "       [  2.    ,  39.    ,   1.    ],\n",
       "       [  3.    ,  22.025 ,   4.    ],\n",
       "       [  2.    ,  26.    ,   3.    ],\n",
       "       [  3.    ,  69.55  ,  17.    ],\n",
       "       [  3.    ,  10.4625,   2.    ],\n",
       "       [  3.    ,   7.75  ,  16.    ],\n",
       "       [  3.    ,   8.05  ,  16.    ],\n",
       "       [  3.    ,  25.4667,  12.    ],\n",
       "       [  3.    ,  31.3875,   5.    ],\n",
       "       [  2.    ,  26.25  ,   8.    ],\n",
       "       [  3.    ,  31.3875,   3.    ],\n",
       "       [  3.    ,  39.6875,  16.    ],\n",
       "       [  3.    ,  29.125 ,   7.    ],\n",
       "       [  3.    ,   9.5   ,  16.    ],\n",
       "       [  1.    , 151.55  ,   2.    ],\n",
       "       [  1.    , 151.55  ,   0.92  ],\n",
       "       [  1.    , 108.9   ,  17.    ],\n",
       "       [  1.    ,  57.9792,  16.    ],\n",
       "       [  3.    ,  18.    ,  16.    ],\n",
       "       [  2.    ,  26.    ,   2.    ],\n",
       "       [  3.    ,  15.9   ,   3.    ],\n",
       "       [  3.    ,   7.2292,  15.    ],\n",
       "       [  3.    ,  21.075 ,   3.    ],\n",
       "       [  3.    ,  15.7417,   1.    ],\n",
       "       [  3.    ,  46.9   ,   1.    ],\n",
       "       [  2.    ,  12.    ,  17.    ],\n",
       "       [  2.    ,  18.75  ,   3.    ],\n",
       "       [  3.    ,  25.4667,   3.    ],\n",
       "       [  3.    ,  24.15  ,  10.    ],\n",
       "       [  3.    ,   7.125 ,  17.    ],\n",
       "       [  1.    , 120.    ,  14.    ],\n",
       "       [  1.    ,  81.8583,   4.    ],\n",
       "       [  2.    ,  19.5   ,  13.    ],\n",
       "       [  3.    ,  19.2583,   5.    ],\n",
       "       [  3.    ,   7.75  ,  17.    ],\n",
       "       [  3.    ,  19.2583,   0.75  ],\n",
       "       [  3.    ,  12.2875,   2.    ],\n",
       "       [  3.    ,  46.9   ,   9.    ],\n",
       "       [  3.    ,  25.4667,   8.    ],\n",
       "       [  3.    ,  15.9   ,   9.    ],\n",
       "       [  3.    ,   8.6625,  17.    ],\n",
       "       [  1.    ,  86.5   ,  16.    ],\n",
       "       [  2.    ,  26.    ,   2.    ],\n",
       "       [  3.    ,   7.2292,  17.    ],\n",
       "       [  3.    ,   7.2292,  17.    ],\n",
       "       [  2.    ,  26.25  ,   7.    ],\n",
       "       [  3.    ,  31.275 ,   9.    ],\n",
       "       [  3.    ,  31.275 ,  11.    ],\n",
       "       [  2.    ,  36.75  ,   8.    ],\n",
       "       [  1.    , 110.8833,  17.    ],\n",
       "       [  3.    ,   8.05  ,  16.    ],\n",
       "       [  3.    ,   8.7125,  16.    ],\n",
       "       [  2.    ,  39.    ,   4.    ],\n",
       "       [  3.    ,  27.9   ,   9.    ],\n",
       "       [  3.    ,  27.9   ,   2.    ],\n",
       "       [  3.    ,  19.2583,   0.75  ],\n",
       "       [  3.    ,   7.8292,  16.    ],\n",
       "       [  3.    ,  46.9   ,  14.    ],\n",
       "       [  3.    ,  39.6875,  14.    ],\n",
       "       [  1.    , 211.3375,  15.    ],\n",
       "       [  3.    ,  13.4167,   4.    ],\n",
       "       [  3.    ,  15.2458,   4.    ],\n",
       "       [  2.    ,  33.    ,   6.    ],\n",
       "       [  3.    ,   7.0542,  17.    ],\n",
       "       [  3.    ,  18.7875,  11.    ],\n",
       "       [  3.    ,  20.25  ,  16.    ],\n",
       "       [  2.    ,  23.    ,   4.    ],\n",
       "       [  3.    ,  12.475 ,   6.    ],\n",
       "       [  2.    ,  14.5   ,   0.67  ],\n",
       "       [  3.    ,   7.775 ,  16.    ],\n",
       "       [  3.    ,  12.475 ,   5.    ],\n",
       "       [  3.    ,   7.2292,  13.    ],\n",
       "       [  1.    ,  57.    ,  17.    ],\n",
       "       [  3.    ,  29.125 ,   8.    ],\n",
       "       [  3.    ,  20.575 ,   1.    ],\n",
       "       [  2.    ,  26.    ,  16.    ],\n",
       "       [  1.    , 120.    ,  11.    ],\n",
       "       [  3.    ,   8.5167,   0.42  ],\n",
       "       [  3.    ,  31.275 ,   6.    ],\n",
       "       [  3.    ,  27.9   ,  10.    ],\n",
       "       [  3.    ,  39.6875,   2.    ],\n",
       "       [  2.    ,  37.0042,   1.    ],\n",
       "       [  3.    ,  14.4542,  15.    ],\n",
       "       [  2.    ,  18.75  ,   0.83  ],\n",
       "       [  2.    ,  10.5   ,  16.    ],\n",
       "       [  3.    ,   8.6625,  17.    ],\n",
       "       [  3.    ,  31.275 ,   4.    ],\n",
       "       [  3.    ,  15.2458,   9.    ],\n",
       "       [  1.    ,  39.4   ,  16.    ],\n",
       "       [  3.    ,  69.55  ,  14.    ],\n",
       "       [  3.    ,  11.1333,   4.    ],\n",
       "       [  3.    ,   7.225 ,  15.    ],\n",
       "       [  3.    ,  23.45  ,   7.    ]])"
      ]
     },
     "execution_count": 34,
     "metadata": {},
     "output_type": "execute_result"
    }
   ],
   "source": [
    "new_mask"
   ]
  },
  {
   "cell_type": "code",
   "execution_count": 35,
   "id": "contemporary-economy",
   "metadata": {},
   "outputs": [
    {
     "data": {
      "text/plain": [
       "(887,)"
      ]
     },
     "execution_count": 35,
     "metadata": {},
     "output_type": "execute_result"
    }
   ],
   "source": [
    "mask.shape"
   ]
  },
  {
   "cell_type": "code",
   "execution_count": 36,
   "id": "level-incident",
   "metadata": {},
   "outputs": [
    {
     "data": {
      "text/plain": [
       "(130, 3)"
      ]
     },
     "execution_count": 36,
     "metadata": {},
     "output_type": "execute_result"
    }
   ],
   "source": [
    "arr_mask.shape"
   ]
  },
  {
   "cell_type": "code",
   "execution_count": 37,
   "id": "soviet-fault",
   "metadata": {},
   "outputs": [
    {
     "data": {
      "text/plain": [
       "(130, 3)"
      ]
     },
     "execution_count": 37,
     "metadata": {},
     "output_type": "execute_result"
    }
   ],
   "source": [
    "new_mask.shape"
   ]
  },
  {
   "cell_type": "markdown",
   "id": "normal-hampshire",
   "metadata": {},
   "source": [
    "## Summing and Counting\n",
    "Summing an array of boolean values gives the count of the number of True values."
   ]
  },
  {
   "cell_type": "code",
   "execution_count": 39,
   "id": "beautiful-mayor",
   "metadata": {},
   "outputs": [
    {
     "data": {
      "text/plain": [
       "130"
      ]
     },
     "execution_count": 39,
     "metadata": {},
     "output_type": "execute_result"
    }
   ],
   "source": [
    "# using true false value from masking\n",
    "arr = df[['Pclass','Fare','Age']].values\n",
    "mask = arr[:,2] < 18\n",
    "mask.sum()"
   ]
  },
  {
   "cell_type": "code",
   "execution_count": 40,
   "id": "radical-punch",
   "metadata": {},
   "outputs": [
    {
     "data": {
      "text/plain": [
       "130"
      ]
     },
     "execution_count": 40,
     "metadata": {},
     "output_type": "execute_result"
    }
   ],
   "source": [
    "(arr[:,2] < 18).sum()"
   ]
  },
  {
   "cell_type": "code",
   "execution_count": null,
   "id": "positive-instrument",
   "metadata": {},
   "outputs": [],
   "source": []
  }
 ],
 "metadata": {
  "kernelspec": {
   "display_name": "Python 3",
   "language": "python",
   "name": "python3"
  },
  "language_info": {
   "codemirror_mode": {
    "name": "ipython",
    "version": 3
   },
   "file_extension": ".py",
   "mimetype": "text/x-python",
   "name": "python",
   "nbconvert_exporter": "python",
   "pygments_lexer": "ipython3",
   "version": "3.8.5"
  }
 },
 "nbformat": 4,
 "nbformat_minor": 5
}
